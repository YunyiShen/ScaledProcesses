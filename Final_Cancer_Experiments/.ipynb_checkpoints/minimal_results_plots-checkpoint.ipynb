{
 "cells": [
  {
   "cell_type": "code",
   "execution_count": 1,
   "id": "6cd2b497",
   "metadata": {},
   "outputs": [
    {
     "data": {
      "text/html": [
       "<style>.container { width:100% !important; }</style>"
      ],
      "text/plain": [
       "<IPython.core.display.HTML object>"
      ]
     },
     "metadata": {},
     "output_type": "display_data"
    }
   ],
   "source": [
    "'''\n",
    "    Store minimal dictionaries from full results for plotting\n",
    "'''\n",
    "\n",
    "import warnings\n",
    "warnings.filterwarnings('ignore')\n",
    "\n",
    "import pandas as pd\n",
    "import numpy as np\n",
    "from tqdm import tqdm_notebook\n",
    "import matplotlib.pyplot as plt\n",
    "import pyreadr\n",
    "import sys\n",
    "\n",
    "sys.path.append('../utils_folder/')\n",
    "from scipy.stats import norm\n",
    "from sklearn.neighbors import KernelDensity\n",
    "from matplotlib import rc as mtprc\n",
    "mtprc('xtick', labelsize=20) \n",
    "mtprc('ytick', labelsize=20)\n",
    "\n",
    "from utils_GD import *\n",
    "from utils_IBP import *\n",
    "from utils_plots import *\n",
    "\n",
    "from IPython.core.display import display, HTML\n",
    "display(HTML(\"<style>.container { width:100% !important; }</style>\"))"
   ]
  },
  {
   "cell_type": "code",
   "execution_count": 10,
   "id": "33acd295",
   "metadata": {},
   "outputs": [],
   "source": [
    "res = np.load('results/small_N_cancer_types.npy', allow_pickle=1).item()\n",
    "\n",
    "_res = {}\n",
    "_res[10] = {} #res[10]\n",
    "\n",
    "for cancer in res[10].keys():\n",
    "    _res[10][cancer] = {}\n",
    "    num_its = len(res[10][cancer]['K'])\n",
    "    _res[10][cancer]['N'] = res[10][cancer]['N']\n",
    "    _res[10][cancer]['M'] = res[10][cancer]['M']\n",
    "    _res[10][cancer]['K'] = res[10][cancer]['K']\n",
    "    _res[10][cancer]['cts'] = res[10][cancer]['cts'][:,-1].reshape(num_its,1)\n",
    "    _res[10][cancer]['IBP_preds'] = res[10][cancer]['IBP_preds'][:,-1].reshape(num_its,1)\n",
    "    _res[10][cancer]['GD_preds'] = res[10][cancer]['GD_preds'][:,-1].reshape(num_its,1)\n",
    "    _res[10][cancer]['J_preds'] = res[10][cancer]['J_preds'][:,:,-1].reshape(num_its,4,1)\n",
    "    _res[10][cancer]['LP_preds'] = res[10][cancer]['LP_preds'][:,-1].reshape(num_its,1)\n",
    "    _res[10][cancer]['GT_preds'] = res[10][cancer]['GT_preds'][:,0,0,-1].reshape(num_its,1,1,1)\n",
    "    \n",
    "np.save('results/_small_N_cancer_types.npy', _res)"
   ]
  },
  {
   "cell_type": "code",
   "execution_count": 22,
   "id": "7cc31233",
   "metadata": {},
   "outputs": [],
   "source": [
    "results = np.load('results/folds_small_N_LOO_paper_cancer_types.npy',allow_pickle=1).item()\n",
    "cancer_acc_ls = ['GBM', 'COADREAD', 'UCEC', 'LIHC', 'STAD']\n",
    "\n",
    "_results = {}\n",
    "_gbm = 0\n",
    "_coad = 5\n",
    "_ucec = 6\n",
    "_lihc = 3\n",
    "_stad = 7\n",
    "_ls = [_gbm, _coad, _ucec, _lihc, _stad]\n",
    "\n",
    "_results[10] = {}\n",
    "for c, cancer in enumerate(cancer_acc_ls):\n",
    "    _ = _ls[c]\n",
    "    _results[10][cancer] = {}\n",
    "    \n",
    "    _results[10][cancer]['GD_mean'] = results[10][cancer]['GD_preds'][_].mean(axis = 0)\n",
    "    _results[10][cancer]['GD_lo'] = np.quantile(results[10][cancer]['GD_preds'][_], q=.1, axis = 0)\n",
    "    _results[10][cancer]['GD_hi'] = np.quantile(results[10][cancer]['GD_preds'][_], q=.9, axis = 0)\n",
    "    \n",
    "    _results[10][cancer]['IBP_mean'] = results[10][cancer]['IBP_preds'][_].mean(axis = 0)\n",
    "    _results[10][cancer]['IBP_lo'] = np.quantile(results[10][cancer]['IBP_preds'][_], q=.1, axis = 0)\n",
    "    _results[10][cancer]['IBP_hi'] = np.quantile(results[10][cancer]['IBP_preds'][_], q=.9, axis = 0)\n",
    "    \n",
    "    _results[10][cancer]['LP_mean'] = results[10][cancer]['LP_preds'][_].mean(axis = 0)\n",
    "    _results[10][cancer]['LP_lo'] = np.quantile(results[10][cancer]['LP_preds'][_], q=.1, axis = 0)\n",
    "    _results[10][cancer]['LP_hi'] = np.quantile(results[10][cancer]['LP_preds'][_], q=.9, axis = 0)\n",
    "    \n",
    "    _results[10][cancer]['J_mean'] = results[10][cancer]['J_preds'][_,:,-1].mean(axis = 0)\n",
    "    _results[10][cancer]['J_lo'] = np.quantile(results[10][cancer]['J_preds'][_,:,-1], q=.1, axis = 0)\n",
    "    _results[10][cancer]['J_hi'] = np.quantile(results[10][cancer]['J_preds'][_,:,-1], q=.9, axis = 0)\n",
    "    \n",
    "    _results[10][cancer]['GT_mean'] = results[10][cancer]['GT_preds'][_,:,0,0].mean(axis = 0)\n",
    "    _results[10][cancer]['GT_lo'] = np.quantile(results[10][cancer]['GT_preds'][_,:,0,0], q=.1, axis = 0)\n",
    "    _results[10][cancer]['GT_hi'] = np.quantile(results[10][cancer]['GT_preds'][_,:,0,0], q=.9, axis = 0)\n",
    "    \n",
    "    _results[10][cancer]['cts'] = results[10][cancer]['cts'][0]\n",
    "    \n",
    "np.save('results/_folds_small_N_LOO_paper_cancer_types.npy', _results)"
   ]
  },
  {
   "cell_type": "code",
   "execution_count": 30,
   "id": "6e59681d",
   "metadata": {
    "collapsed": true
   },
   "outputs": [
    {
     "name": "stdout",
     "output_type": "stream",
     "text": [
      "BRCA\n",
      "LGG\n",
      "LUAD\n",
      "HNSC\n",
      "COADREAD\n",
      "LUSC\n",
      "SKCM\n",
      "UCEC\n",
      "BLCA\n",
      "OV\n"
     ]
    }
   ],
   "source": [
    "res = np.load('results/small_N_paper_cancer_types_rare_variants.npy', allow_pickle=1).item()\n",
    "_res = {}\n",
    "_res[10] = {}\n",
    "for c, cancer in enumerate(res[10]):\n",
    "    print(cancer)\n",
    "    _res[10][cancer] = {}\n",
    "    GD_error = np.clip(np.abs(res[N][cancer_type]['GD_preds'][0, :, -1]-ctz)/ctz, 0, 1)\n",
    "    GD_precision = 1-np.sort(GD_error)[lo_retain:hi_retain]\n",
    "    _res[10][cancer]['GD_precision'] = GD_precision\n",
    "    \n",
    "    IBP_error = np.clip(np.abs(res[N][cancer_type]['IBP_preds'][0, :, -1]-ctz)/ctz, 0, 1)      \n",
    "    IBP_precision = 1-np.sort(IBP_error)[lo_retain:hi_retain]\n",
    "    _res[10][cancer]['IBP_precision'] = IBP_precision\n",
    "    \n",
    "    LP_error = np.clip(np.abs(res[N][cancer_type]['LP_preds'][0, :, -1]-ctz)/ctz, 0, 1)      \n",
    "    LP_precision = 1-np.sort(LP_error)[lo_retain:hi_retain]\n",
    "    _res[10][cancer]['LP_precision'] = LP_precision\n",
    "    \n",
    "np.save('results/_small_N_paper_cancer_types_rare_variants.npy', _res)"
   ]
  },
  {
   "cell_type": "code",
   "execution_count": 37,
   "id": "cf27f7e8",
   "metadata": {},
   "outputs": [
    {
     "name": "stdout",
     "output_type": "stream",
     "text": [
      "BRCA\n",
      "COADREAD\n",
      "OV\n",
      "GBM\n",
      "SARC\n"
     ]
    }
   ],
   "source": [
    "# res2 = np.load('results/paper_cancer_types.npy', allow_pickle=1).item()\n",
    "# res = np.load('results/paper_cancer_types_rare_variants.npy', allow_pickle=1).item()\n",
    "breast, ovarian, colorectal, sarcoma, glioblastoma = 'BRCA', 'OV', 'COADREAD', 'SARC', 'GBM'\n",
    "selected_cancer_types = [breast, colorectal, ovarian, glioblastoma, sarcoma]\n",
    "fraction = .05\n",
    "\n",
    "_res = {}\n",
    "_res[fraction] = {}\n",
    "for c, cancer in enumerate(selected_cancer_types):\n",
    "    print(cancer)\n",
    "    ctz = res[fraction][cancer]['cts'][0,:,-1]\n",
    "    \n",
    "    _res[fraction][cancer] = {}\n",
    "    _res[fraction][cancer]['N'] = res2[fraction][cancer]['N']\n",
    "    _res[fraction][cancer]['cts'] = res[fraction][cancer]['cts'][0,:,-1]\n",
    "    \n",
    "    \n",
    "    IBP_preds = res[fraction][cancer]['IBP_preds'][0,:,-1]\n",
    "    GD_preds = res[fraction][cancer]['GD_preds'][0,:,-1]\n",
    "    LP_preds = res[fraction][cancer]['LP_preds'][0,:,-1]\n",
    "\n",
    "    IBP_EFPF = 1-np.clip(np.abs(IBP_preds-ctz)/ctz, 0, 1)\n",
    "    GD_EFPF = 1-np.clip(np.abs(GD_preds-ctz)/ctz, 0, 1)\n",
    "    LP = 1-np.clip(np.abs(LP_preds-ctz)/ctz, 0, 1)\n",
    "    \n",
    "    _res[fraction][cancer]['IBP_EFPF'] = IBP_EFPF\n",
    "    _res[fraction][cancer]['GD_EFPF'] = GD_EFPF\n",
    "    _res[fraction][cancer]['LP'] = LP\n",
    "\n",
    "\n",
    "np.save('results/_paper_cancer_types_rare_variants.npy', _res)"
   ]
  },
  {
   "cell_type": "code",
   "execution_count": 46,
   "id": "d6c369b1",
   "metadata": {},
   "outputs": [],
   "source": [
    "error_dictionary = np.load('results/paper_calibration_error_dictionary.npy', allow_pickle = 1).item()\n",
    "_error_dictionary = {}\n",
    "\n",
    "GD_cov, IBP_cov = np.zeros([4, error_dictionary['percentage_checks'].shape[0], len(error_dictionary[.05].keys())]), np.zeros([4, error_dictionary['percentage_checks'].shape[0], len(error_dictionary[.05].keys())])\n",
    "for f, fraction in enumerate([.05,.1,.2,.3]):\n",
    "    for c, cancer in enumerate(error_dictionary[.05]):\n",
    "\n",
    "        GD_cov[f,:,c] = error_dictionary[fraction][cancer]['GD_all'].mean(axis = 1)\n",
    "        IBP_cov[f,:,c] = error_dictionary[fraction][cancer]['IBP_all'].mean(axis = 1)\n",
    "_error_dictionary['GD_coverage'] = GD_cov\n",
    "_error_dictionary['IBP_coverage'] = IBP_cov\n",
    "_error_dictionary['percentage_checks'] = error_dictionary['percentage_checks']\n",
    "\n",
    "np.save('results/_paper_calibration_error_dictionary.npy', _error_dictionary)"
   ]
  }
 ],
 "metadata": {
  "kernelspec": {
   "display_name": "Python 3 (ipykernel)",
   "language": "python",
   "name": "python3"
  },
  "language_info": {
   "codemirror_mode": {
    "name": "ipython",
    "version": 3
   },
   "file_extension": ".py",
   "mimetype": "text/x-python",
   "name": "python",
   "nbconvert_exporter": "python",
   "pygments_lexer": "ipython3",
   "version": "3.8.8"
  }
 },
 "nbformat": 4,
 "nbformat_minor": 5
}
