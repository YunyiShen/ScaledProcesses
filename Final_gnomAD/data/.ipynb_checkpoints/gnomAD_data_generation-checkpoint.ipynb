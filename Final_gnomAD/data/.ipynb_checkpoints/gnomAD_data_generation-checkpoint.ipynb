{
 "cells": [
  {
   "cell_type": "code",
   "execution_count": 1,
   "metadata": {},
   "outputs": [
    {
     "data": {
      "text/html": [
       "<style>.container { width:100% !important; }</style>"
      ],
      "text/plain": [
       "<IPython.core.display.HTML object>"
      ]
     },
     "metadata": {},
     "output_type": "display_data"
    }
   ],
   "source": [
    "import pandas as pd\n",
    "import numpy as np\n",
    "import os\n",
    "from tqdm import *\n",
    "from IPython.core.display import display, HTML\n",
    "display(HTML(\"<style>.container { width:100% !important; }</style>\"))"
   ]
  },
  {
   "cell_type": "code",
   "execution_count": 7,
   "metadata": {},
   "outputs": [
    {
     "name": "stdout",
     "output_type": "stream",
     "text": [
      "fin\n",
      "nfe_bgr\n",
      "nfe_est\n",
      "nfe_nwe\n",
      "nfe_onf\n",
      "nfe_seu\n",
      "nfe_swe\n",
      "sas\n",
      "oth\n"
     ]
    }
   ],
   "source": [
    "population_ls = ['afr', 'amr', 'asj', 'eas', 'eas_jpn', 'eas_kor', 'eas_oea', 'fin', 'nfe_bgr', 'nfe_est', 'nfe_nwe', 'nfe_onf', 'nfe_seu', 'nfe_swe', 'sas', 'oth']\n",
    "population_size = [8128, 17296, 5040, 9197, 76, 1909, 7212, 10824, 1335, 121, 21111, 15499, 5752, 13067, 15308, 3070]\n",
    "num_boots = 200\n",
    "\n",
    "# simplest exercise possible: retain half of the sample size for train, half for prediction.\n",
    "\n",
    "for p, population in enumerate(population_ls[7:]):\n",
    "    print(population)\n",
    "#     if not os.path.exists(population+'/cts'):\n",
    "#         os.makedirs(population+'/cts')\n",
    "#     if not os.path.exists(population+'/cts_cv'):\n",
    "#         os.makedirs(population+'/cts_cv')\n",
    "#     if not os.path.exists(population+'/fingerprints'):\n",
    "#         os.makedirs(population+'/sfs')\n",
    "    pis_po = np.load('../../../features_prediction_experiments/real_data/data/'+population+'/pis_po.npy')\n",
    "    \n",
    "#     trimmed_sample_size = int(np.load(population+'/total_sample_size.npy')/num_boots)\n",
    "\n",
    "#     vec_all = np.zeros(1 + trimmed_sample_size * num_boots, dtype = int)\n",
    "#     current = np.zeros([trimmed_sample_size, len(pis_po)])\n",
    "#     cts_cum_sum = np.zeros([num_boots, len(pis_po)])\n",
    "    \n",
    "    \n",
    "#     for it in tqdm_notebook(range(num_boots)):\n",
    "#         train_cum_sum = np.random.binomial(1, np.repeat(pis_po, trimmed_sample_size)).reshape(len(pis_po), trimmed_sample_size).T.cumsum(axis = 0)\n",
    "#         nonzeros = np.concatenate(([0],np.count_nonzero(train_cum_sum, axis = 1)))\n",
    "\n",
    "#         current = train_cum_sum + current[-1]\n",
    "#         cts_cum_sum[it] = current[-1]\n",
    "        \n",
    "#         nonzeros_all = np.count_nonzero(current, axis = 1)\n",
    "#         vec_all[1+ it*trimmed_sample_size : 1+(it+1)*trimmed_sample_size] = nonzeros_all\n",
    "        \n",
    "#         cts = np.bincount(train_cum_sum[-1])[1:]\n",
    "        \n",
    "#         if it < 10:\n",
    "            \n",
    "#             np.savetxt(population+'/cts/boot_'+str(it), nonzeros)\n",
    "#             np.savetxt(population+'/fingerprints/boot_'+str(it), cts, fmt = '%i')\n",
    "            \n",
    "# #     np.savetxt(population+'/cum_sums_all', cts_cum_sum)\n",
    "#     np.savetxt(population+'/cts/all_', vec_all)\n",
    "    \n",
    "# population_ls = ['afr', 'amr', 'asj', 'eas', 'eas_jpn', 'eas_kor', 'eas_oea', 'fin', 'nfe', 'nfe_bgr', 'nfe_est', 'nfe_nwe', 'nfe_onf', 'nfe_seu', 'nfe_swe', 'sas', 'oth']\n",
    "# population_size = [8128, 17296, 5040, 9197, 76, 1909, 7212, 10824, 56885, 1335, 121, 21111, 15499, 5752, 13067, 15308, 3070]"
   ]
  }
 ],
 "metadata": {
  "kernelspec": {
   "display_name": "Python 3",
   "language": "python",
   "name": "python3"
  },
  "language_info": {
   "codemirror_mode": {
    "name": "ipython",
    "version": 3
   },
   "file_extension": ".py",
   "mimetype": "text/x-python",
   "name": "python",
   "nbconvert_exporter": "python",
   "pygments_lexer": "ipython3",
   "version": "3.8.3"
  }
 },
 "nbformat": 4,
 "nbformat_minor": 4
}
